{
  "nbformat": 4,
  "nbformat_minor": 0,
  "metadata": {
    "colab": {
      "provenance": [],
      "collapsed_sections": []
    },
    "kernelspec": {
      "name": "python3",
      "display_name": "Python 3"
    },
    "language_info": {
      "name": "python"
    },
    "gpuClass": "standard"
  },
  "cells": [
    {
      "cell_type": "code",
      "source": [
        "from google.colab import drive\n",
        "drive.mount('/content/gdrive')"
      ],
      "metadata": {
        "colab": {
          "base_uri": "https://localhost:8080/"
        },
        "id": "NWP7B4457v9t",
        "outputId": "12c55c42-02c2-45c2-9ce2-023f2a1f9b19"
      },
      "execution_count": null,
      "outputs": [
        {
          "output_type": "stream",
          "name": "stdout",
          "text": [
            "Mounted at /content/gdrive\n"
          ]
        }
      ]
    },
    {
      "cell_type": "code",
      "source": [
        "import csv\n",
        "import os\n",
        "import pandas as pd\n",
        "\n",
        "#dir where the files are being accessed\n",
        "csvdir = \"/content/gdrive/MyDrive/ITCS 4155 Group1/Processed-Data/non-covid/\"\n",
        "#dir where the updated files are being sent\n",
        "cleaned_dir = \"/content/gdrive/MyDrive/ITCS 4155 Group1/Processed-Data/non-covid/organized/\"\n",
        "#opens each file\n",
        "def dataFormatter():\n",
        "  #goes through each file in the folder\n",
        "  for file in os.listdir(csvdir):\n",
        "    #sets file that will be read, and file that will be written\n",
        "     with open(csvdir + file, 'r', newline='') as infile, open(cleaned_dir + file, 'w', newline='') as outfile:\n",
        "          #creates writer & reader objects\n",
        "          writer = csv.writer(outfile)\n",
        "          csvreader = pd.read_csv(csvdir + file, on_bad_lines = \"skip\")\n",
        "          #goes through each line in the file\n",
        "          for line in csv.reader(infile):\n",
        "              row_string = str(line)\n",
        "              #there are several types of ways the routers format the log data, this checks to see which type it is. \n",
        "              if row_string[18].isnumeric() == False:\n",
        "                  connection_month = row_string[2:5]\n",
        "                  connection_date = row_string[6:8]\n",
        "                  connection_time = row_string[9:17]\n",
        "                  building_name = \"\"\n",
        "                  building_start_index = 18\n",
        "\n",
        "                  while row_string[building_start_index] != \"-\":\n",
        "                      building_name = building_name + row_string[building_start_index]\n",
        "                      building_start_index += 1\n",
        "                  connection_Entry = {\n",
        "                      \"Month\": connection_month,\n",
        "                      \"Date\": connection_date,\n",
        "                      \"Time\": connection_time,\n",
        "                      \"Building Name\": building_name\n",
        "                  }\n",
        "                  entry = str(connection_Entry)\n",
        "                  writer.writerow(entry)\n",
        "                  writer.writerow(\"\\n\")\n",
        "              else:\n",
        "                  connection_month = row_string[2:5]\n",
        "                  connection_date = row_string[6:8]\n",
        "                  connection_time = row_string[9:17]\n",
        "                  ext = row_string.index(\"AP\")\n",
        "                  building_name = \"\"\n",
        "                  if \"EXT\" in row_string:\n",
        "                      building_start_index = ext + 7\n",
        "                      while row_string[building_start_index] != \"-\":\n",
        "                          building_name = building_name + row_string[building_start_index]\n",
        "                          building_start_index += 1\n",
        "                  else:\n",
        "                      building_start_index = ext + 3\n",
        "                      try:\n",
        "                        while row_string[building_start_index] != \"-\":\n",
        "                            building_name = building_name + row_string[building_start_index]\n",
        "                            building_start_index += 1\n",
        "                      except IndexError:\n",
        "                          break\n",
        "                  #array that is created & logged from each line\n",
        "                  connection_Entry = {\n",
        "                      \"Month\": connection_month,\n",
        "                      \"Date\": connection_date,\n",
        "                      \"Time\": connection_time,\n",
        "                      \"Building Name\": building_name\n",
        "                  }\n",
        "                  entry = str(connection_Entry)\n",
        "                  writer.writerow(entry)\n",
        "                  writer.writerow(\"\\n\")\n",
        "\n",
        "\n",
        "dataFormatter()"
      ],
      "metadata": {
        "id": "9zs3Dk608IyG"
      },
      "execution_count": null,
      "outputs": []
    }
  ]
}