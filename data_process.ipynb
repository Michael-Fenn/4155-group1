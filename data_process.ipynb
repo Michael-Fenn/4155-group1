{
  "cells": [
    {
      "cell_type": "code",
      "execution_count": null,
      "metadata": {
        "colab": {
          "base_uri": "https://localhost:8080/"
        },
        "id": "7WvvA0hRh-Q-",
        "outputId": "26125a57-cf7a-4bce-89f6-c3fdf3ef1a22"
      },
      "outputs": [
        {
          "name": "stdout",
          "output_type": "stream",
          "text": [
            "Drive already mounted at /content/gdrive; to attempt to forcibly remount, call drive.mount(\"/content/gdrive\", force_remount=True).\n"
          ]
        }
      ],
      "source": [
        "from google.colab import drive\n",
        "drive.mount('/content/gdrive')"
      ]
    },
    {
      "cell_type": "code",
      "execution_count": null,
      "metadata": {
        "id": "bWWpLeQciudI"
      },
      "outputs": [],
      "source": [
        "import gzip\n",
        "import tarfile\n",
        "import os"
      ]
    },
    {
      "cell_type": "code",
      "execution_count": null,
      "metadata": {
        "id": "PboQwalD0LXZ"
      },
      "outputs": [],
      "source": [
        "import pandas as pd\n",
        "import os\n",
        "\n",
        "#extracts files out of the zip & puts it into a new folder\n",
        "def fileUnzip(file):\n",
        "  f = tarfile.open(\"/content/gdrive/MyDrive/raw_logs/\"+ file)\n",
        "  f.extractall(\"/content/gdrive/MyDrive/raw_wifi_data\")\n",
        "  f.close()\n",
        "\n",
        "dir = '/content/gdrive/MyDrive/raw_logs'\n",
        "\n",
        "for file in os.listdir(dir):\n",
        "    fileUnzip(file)"
      ]
    },
    {
      "cell_type": "code",
      "execution_count": null,
      "metadata": {
        "id": "majrr_xIe5ZN"
      },
      "outputs": [],
      "source": [
        "import pandas as pd\n",
        "#dir for raw files\n",
        "dir2 = \"/content/gdrive/MyDrive/raw_wifi_data/var/log/remote/wireless-encoded/\"\n",
        "#changes file type to csv\n",
        "def toCsv():\n",
        "  for file in os.listdir(dir2):\n",
        "    read_file = pd.read_csv (dir2+file, on_bad_lines=\"skip\")\n",
        "    read_file.to_csv (r'/content/gdrive/MyDrive/raw_csv_late/' + file + \".csv\", index=None)\n",
        "toCsv()"
      ]
    },
    {
      "cell_type": "code",
      "execution_count": null,
      "metadata": {
        "id": "tbqQr710jq3c"
      },
      "outputs": [],
      "source": [
        "import csv\n",
        "#name & location of file with cleaned/processed data\n",
        "cleaned_dir= \"/content/gdrive/MyDrive/ITCS 4155 Group1/Processed-Data/cleaned_\"\n",
        "#all lines that contain this word are kept\n",
        "keep_word = \"success\"\n",
        "#dir where the cleaned files are being sent\n",
        "csvdir = \"/content/gdrive/MyDrive/raw_wifi_data/var/log/remote/wireless-encoded/\"\n",
        "#opens each file\n",
        "def cleanFile():\n",
        "  for file in os.listdir(csvdir):\n",
        "    with open(csvdir + file, 'r', newline='') as infile, open(cleaned_dir + file, 'w', newline='') as outfile:\n",
        "      writer = csv.writer(outfile)\n",
        "      #reads the line & checks if it has the \"keep word\" if it doesn't it gets rid of it\n",
        "      for line in csv.reader(infile):\n",
        "          if any(keep_word in element for element in line): \n",
        "              writer.writerow(line)"
      ]
    }
  ],
  "metadata": {
    "accelerator": "GPU",
    "colab": {
      "authorship_tag": "ABX9TyNqz76Bk2fJhEvHreVwsNZG",
      "collapsed_sections": [],
      "provenance": []
    },
    "kernelspec": {
      "display_name": "Python 3.9.0 64-bit",
      "language": "python",
      "name": "python3"
    },
    "language_info": {
      "name": "python",
      "version": "3.9.0"
    },
    "vscode": {
      "interpreter": {
        "hash": "81794d4967e6c3204c66dcd87b604927b115b27c00565d3d43f05ba2f3a2cb0d"
      }
    }
  },
  "nbformat": 4,
  "nbformat_minor": 0
}
