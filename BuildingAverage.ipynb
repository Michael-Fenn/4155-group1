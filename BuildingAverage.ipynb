{
  "nbformat": 4,
  "nbformat_minor": 0,
  "metadata": {
    "colab": {
      "provenance": []
    },
    "kernelspec": {
      "name": "python3",
      "display_name": "Python 3"
    },
    "language_info": {
      "name": "python"
    }
  },
  "cells": [
    {
      "cell_type": "code",
      "execution_count": null,
      "metadata": {
        "colab": {
          "base_uri": "https://localhost:8080/"
        },
        "id": "9BroErNbv35e",
        "outputId": "67fd9ad9-709c-42e5-e6ad-c878825cbbe2"
      },
      "outputs": [
        {
          "output_type": "stream",
          "name": "stdout",
          "text": [
            "Mounted at /content/gdrive\n"
          ]
        }
      ],
      "source": [
        "from google.colab import drive\n",
        "drive.mount('/content/gdrive')"
      ]
    },
    {
      "cell_type": "code",
      "source": [
        "import os\n",
        "import csv\n",
        "#folder where files are being grabbed\n",
        "start_dir = r\"/content/gdrive/MyDrive/ITCS 4155 Group1/Processed-Data/non-covid/counted/Monday/\"\n",
        "#folder where new files are being sent\n",
        "cleaned_dir = r\"/content/gdrive/MyDrive/ITCS 4155 Group1/Processed-Data/non-covid/counted/\"\n",
        "def buildingAverage():\n",
        "  \n",
        "  for file in os.listdir(start_dir):\n",
        "    building_count = 0\n",
        "    line_counter = 0\n",
        "    with open(start_dir + file, 'r', newline='') as infile, open(cleaned_dir + file, 'w', newline='') as outfile:\n",
        "      csvreader = csv.reader(infile)\n",
        "      building_list = {}\n",
        "      building_entry_total = []\n",
        "      building_entry_unique = []\n",
        "      i = 0\n",
        "      \n",
        "      for row in csvreader:\n",
        "      \n",
        "          row_string = str(row)\n",
        "          building_entry = row_string[:5]\n",
        "          building_entry_count = \"\"\n",
        "          position = 5\n",
        "          character = \"\"\n",
        "          building_count = \"\"\n",
        "\n",
        "          while row_string[position] != \":\":\n",
        "          \n",
        "              character = row_string[position]\n",
        "              \n",
        "              if character.isspace():\n",
        "                  break\n",
        "                  \n",
        "              building_entry = building_entry + row_string[position]\n",
        "              position += 1\n",
        "              \n",
        "          position += 2\n",
        "          testx = row_string[position]\n",
        "          \n",
        "          while row_string[position].isnumeric():\n",
        "          \n",
        "              character = row_string[position]\n",
        "              building_entry_count += row_string[position]\n",
        "              position +=1\n",
        "\n",
        "          key = \"Entry\"\n",
        "          value = building_entry\n",
        "\n",
        "          if building_entry in building_list:\n",
        "          \n",
        "              new_count = int(building_entry_count)\n",
        "              old_count = int(building_hour_entry[building_entry])\n",
        "              building_hour_entry[building_entry] = str(new_count + old_count)\n",
        "              building_list.update(building_hour_entry)\n",
        "              building_entry_total.append(building_entry)\n",
        "              \n",
        "          if building_entry not in building_list:\n",
        "          \n",
        "              building_entry_unique.append(building_entry)\n",
        "              building_entry_total.append(building_entry)\n",
        "              \n",
        "              building_hour_entry = {\n",
        "                  building_entry : building_entry_count\n",
        "              }\n",
        "              \n",
        "              building_list.update(building_hour_entry)\n",
        "                  \n",
        "          position += 2\n",
        "      \n",
        "      i = 0\n",
        "      \n",
        "      for entry in building_entry_unique:\n",
        "      \n",
        "          hey = entry\n",
        "          #hey = hey.strip(\"['\")\n",
        "          poo = building_list[hey]\n",
        "          building_total = building_entry_total.count(entry)\n",
        "          average = int(poo)/building_total\n",
        "          building_list[hey] = str(average)\n",
        "          building_list.update(building_list)\n",
        "          hey.strip(\"['\")\n",
        "          outfile.write(hey + \" \" + str(average) + \"\\n\")\n",
        "          i += 1\n",
        "buildingAverage()"
      ],
      "metadata": {
        "id": "03mG2t_Lv6fn"
      },
      "execution_count": null,
      "outputs": []
    }
  ]
}