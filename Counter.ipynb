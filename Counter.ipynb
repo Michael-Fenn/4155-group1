{
  "nbformat": 4,
  "nbformat_minor": 0,
  "metadata": {
    "colab": {
      "provenance": []
    },
    "kernelspec": {
      "name": "python3",
      "display_name": "Python 3"
    },
    "language_info": {
      "name": "python"
    }
  },
  "cells": [
    {
      "cell_type": "code",
      "execution_count": null,
      "metadata": {
        "colab": {
          "base_uri": "https://localhost:8080/"
        },
        "id": "Ft0BhbGIHp2p",
        "outputId": "31d6f87c-7ecf-4cf8-80ee-519544ae9e37"
      },
      "outputs": [
        {
          "output_type": "stream",
          "name": "stdout",
          "text": [
            "Mounted at /content/gdrive\n"
          ]
        }
      ],
      "source": [
        "from google.colab import drive\n",
        "drive.mount('/content/gdrive')"
      ]
    },
    {
      "cell_type": "code",
      "source": [
        "import csv\n",
        "import os\n",
        "\n",
        "#folder where files are being grabbed\n",
        "start_dir = \"/content/gdrive/MyDrive/ITCS 4155 Group1/Processed-Data/non-covid/organized/\"\n",
        "#folder where new files are being sent\n",
        "cleaned_dir = \"/content/gdrive/MyDrive/ITCS 4155 Group1/Processed-Data/non-covid/counted/\"\n",
        "def buildingCounter():\n",
        "  building_count = 0\n",
        "  line_counter = 0\n",
        "  for file in os.listdir(start_dir):\n",
        "    with open(start_dir + file, 'r', newline='') as infile, open(cleaned_dir + file, 'w', newline='') as outfile:\n",
        "      writer = csv.writer(outfile)\n",
        "      character = ''\n",
        "      # proxy name list to hold, needed it to solve problem\n",
        "      building_name_list_prox = []\n",
        "      building_name_list = []\n",
        "      building_list_full = []\n",
        "      row_counter = 0\n",
        "      time = 0\n",
        "\n",
        "      # inital for loop reads each line of the code\n",
        "      for line in csv.reader(infile):\n",
        "          row_string = str(line)\n",
        "          position = row_string.find(\"Time\") + 8\n",
        "          string = str(row_string[position: (position + 2)])\n",
        "          #stringTime = str(string)\n",
        "          # gets the index for where the Name section for each line is\n",
        "          name = row_string.find(\"Name\") + 8\n",
        "          building_name = \"\"\n",
        "          character = row_string[name]\n",
        "          # while character is an alphabet letter keep building the name to add to list\n",
        "          while character.isalpha():\n",
        "              character = row_string[name]\n",
        "              # added a break check here to make sure that the building name being given is unique\n",
        "              if character.isnumeric():\n",
        "                  break\n",
        "              building_name = building_name + row_string[name]\n",
        "              name += 1\n",
        "\n",
        "\n",
        "          # abreviated the building name to further make sure the name is unique since buildings have different numbers\n",
        "          # the loop above doesn't check after for numbers so some numbers get through\n",
        "          building_name_abv = building_name[:4]\n",
        "          building_name  = string + \" \" + building_name\n",
        "\n",
        "          # adds the building name to the full list of building names ( holds every building and not unique)\n",
        "          building_list_full.append(building_name)\n",
        "\n",
        "          # this is a seperate list maker that holds the unique building names\n",
        "          if building_name_abv not in building_name_list_prox:\n",
        "              building_name_list_prox.append(building_name_abv)\n",
        "\n",
        "          if building_name not in building_name_list:\n",
        "              building_name_list.append(building_name)\n",
        "\n",
        "\n",
        "\n",
        "      res = {}\n",
        "\n",
        "      # coun\n",
        "      # ts the number of instances for each building\n",
        "      file_number = 0\n",
        "      #f.write(\"Hour: \" + str(time))\n",
        "      #f.write(\"\\n\")\n",
        "      #stuck here\n",
        "      for line in building_name_list:\n",
        "          ph = line[0:2]\n",
        "          phint = int(ph)\n",
        "          building_entry = str(line)\n",
        "          if phint == time:\n",
        "\n",
        "              res[line] = building_list_full.count(line)\n",
        "              building_hour_entry = str(line) + \": \" + str(res[line])\n",
        "              writer.write(building_hour_entry)\n",
        "              writer.write(\"\\n\")\n",
        "\n",
        "          if phint != time:\n",
        "              #entry = str(res)\n",
        "              #f.write(entry)\n",
        "              #f.write(\"\\n\")\n",
        "              time += 1\n",
        "              #f.write(\"Hour: \" + str(time))\n",
        "              #f.write(\"\\n\")\n",
        "              res = {}\n",
        "              res[line] = building_list_full.count(line)\n",
        "              building_hour_entry = str(line) + \": \" + str(res[line])\n",
        "              writer.write(building_hour_entry)\n",
        "              writer.write(\"\\n\")\n",
        "\n",
        "      #f.write(entry)\n",
        "\n",
        "      #f.write(str(res))\n",
        "buildingCounter()"
      ],
      "metadata": {
        "colab": {
          "base_uri": "https://localhost:8080/",
          "height": 321
        },
        "id": "PLHDysYQHvU6",
        "outputId": "aabeb554-7c90-440f-bcbc-cf01c96e6724"
      },
      "execution_count": null,
      "outputs": [
        {
          "output_type": "error",
          "ename": "IndexError",
          "evalue": "ignored",
          "traceback": [
            "\u001b[0;31m---------------------------------------------------------------------------\u001b[0m",
            "\u001b[0;31mIndexError\u001b[0m                                Traceback (most recent call last)",
            "\u001b[0;32m<ipython-input-21-0e3e95ba61a2>\u001b[0m in \u001b[0;36m<module>\u001b[0;34m\u001b[0m\n\u001b[1;32m     92\u001b[0m \u001b[0;34m\u001b[0m\u001b[0m\n\u001b[1;32m     93\u001b[0m       \u001b[0;31m#f.write(str(res))\u001b[0m\u001b[0;34m\u001b[0m\u001b[0;34m\u001b[0m\u001b[0;34m\u001b[0m\u001b[0m\n\u001b[0;32m---> 94\u001b[0;31m \u001b[0mbuildingCounter\u001b[0m\u001b[0;34m(\u001b[0m\u001b[0;34m)\u001b[0m\u001b[0;34m\u001b[0m\u001b[0;34m\u001b[0m\u001b[0m\n\u001b[0m",
            "\u001b[0;32m<ipython-input-21-0e3e95ba61a2>\u001b[0m in \u001b[0;36mbuildingCounter\u001b[0;34m()\u001b[0m\n\u001b[1;32m     29\u001b[0m           \u001b[0mname\u001b[0m \u001b[0;34m=\u001b[0m \u001b[0mrow_string\u001b[0m\u001b[0;34m.\u001b[0m\u001b[0mfind\u001b[0m\u001b[0;34m(\u001b[0m\u001b[0;34m\"Name\"\u001b[0m\u001b[0;34m)\u001b[0m \u001b[0;34m+\u001b[0m \u001b[0;36m8\u001b[0m\u001b[0;34m\u001b[0m\u001b[0;34m\u001b[0m\u001b[0m\n\u001b[1;32m     30\u001b[0m           \u001b[0mbuilding_name\u001b[0m \u001b[0;34m=\u001b[0m \u001b[0;34m\"\"\u001b[0m\u001b[0;34m\u001b[0m\u001b[0;34m\u001b[0m\u001b[0m\n\u001b[0;32m---> 31\u001b[0;31m           \u001b[0mcharacter\u001b[0m \u001b[0;34m=\u001b[0m \u001b[0mrow_string\u001b[0m\u001b[0;34m[\u001b[0m\u001b[0mname\u001b[0m\u001b[0;34m]\u001b[0m\u001b[0;34m\u001b[0m\u001b[0;34m\u001b[0m\u001b[0m\n\u001b[0m\u001b[1;32m     32\u001b[0m           \u001b[0;31m# while character is an alphabet letter keep building the name to add to list\u001b[0m\u001b[0;34m\u001b[0m\u001b[0;34m\u001b[0m\u001b[0;34m\u001b[0m\u001b[0m\n\u001b[1;32m     33\u001b[0m           \u001b[0;32mwhile\u001b[0m \u001b[0mcharacter\u001b[0m\u001b[0;34m.\u001b[0m\u001b[0misalpha\u001b[0m\u001b[0;34m(\u001b[0m\u001b[0;34m)\u001b[0m\u001b[0;34m:\u001b[0m\u001b[0;34m\u001b[0m\u001b[0;34m\u001b[0m\u001b[0m\n",
            "\u001b[0;31mIndexError\u001b[0m: string index out of range"
          ]
        }
      ]
    }
  ]
}