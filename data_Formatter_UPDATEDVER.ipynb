{
  "nbformat": 4,
  "nbformat_minor": 0,
  "metadata": {
    "colab": {
      "provenance": [],
      "collapsed_sections": []
    },
    "kernelspec": {
      "name": "python3",
      "display_name": "Python 3"
    },
    "language_info": {
      "name": "python"
    },
    "gpuClass": "standard"
  },
  "cells": [
    {
      "cell_type": "code",
      "source": [
        "from google.colab import drive\n",
        "drive.mount('/content/gdrive')"
      ],
      "metadata": {
        "colab": {
          "base_uri": "https://localhost:8080/"
        },
        "id": "NWP7B4457v9t",
        "outputId": "6ebf3056-4d4d-443b-c2f8-954709d971b7"
      },
      "execution_count": 2,
      "outputs": [
        {
          "output_type": "stream",
          "name": "stdout",
          "text": [
            "Mounted at /content/gdrive\n"
          ]
        }
      ]
    },
    {
      "cell_type": "code",
      "source": [
        "import csv\n",
        "import os\n",
        "import pandas as pd\n",
        "\n",
        "#dir where the files are being accessed\n",
        "csvdir = \"/content/gdrive/MyDrive/ITCS 4155 Group1/Processed-Data/non-covid/\"\n",
        "#dir where the updated files are being sent\n",
        "cleaned_dir = \"/content/gdrive/MyDrive/ITCS 4155 Group1/Processed-Data/non-covid/organized/\"\n",
        "#opens each file\n",
        "def dataFormatter():\n",
        "  #goes through each file in the folder\n",
        "  for file in os.listdir(csvdir):\n",
        "    path = os.path.join(csvdir, file)\n",
        "    if os.path.isdir(path):\n",
        "      continue\n",
        "    #sets file that will be read, and file that will be written\n",
        "    csvreader = csv.reader(csvdir + file)\n",
        "    infile = csvdir + file\n",
        "    outfile = open(cleaned_dir + file, 'w')\n",
        "    \n",
        "    for row in csvreader:\n",
        "      \n",
        "     #with open(csvdir + file, 'r', newline='') as infile, open(cleaned_dir + file, 'w', newline='') as outfile:\n",
        "          #creates writer & reader objects\n",
        "          #writer = csv.writer(outfile)\n",
        "          \n",
        "          #goes through each line in the file\n",
        "\n",
        "      row_string = str(row)\n",
        "      #there are several types of ways the routers format the log data, this checks to see which type it is. \n",
        "      try:\n",
        "        if row_string[18].isnumeric() == False:\n",
        "            connection_month = row_string[2:5]\n",
        "            connection_date = row_string[6:8]\n",
        "            connection_time = row_string[9:17]\n",
        "            building_name = \"\"\n",
        "            building_start_index = 18\n",
        "\n",
        "            while row_string[building_start_index] != \"-\":\n",
        "                building_name = building_name + row_string[building_start_index]\n",
        "                building_start_index += 1\n",
        "            connection_Entry = {\n",
        "                \"Month\": connection_month,\n",
        "                \"Date\": connection_date,\n",
        "                \"Time\": connection_time,\n",
        "                \"Building Name\": building_name\n",
        "            }\n",
        "            entry = str(connection_Entry)\n",
        "            outfile.write(entry)\n",
        "            outfile.write(\"\\n\")\n",
        "      except IndexError: \n",
        "      \n",
        "          connection_month = row_string[2:5]\n",
        "          connection_date = row_string[6:8]\n",
        "          connection_time = row_string[9:17]\n",
        "          ext = row_string.index(\"AP\")\n",
        "          building_name = \"\"\n",
        "          if \"EXT\" in row_string:\n",
        "              building_start_index = ext + 7\n",
        "              while row_string[building_start_index] != \"-\":\n",
        "                  building_name = building_name + row_string[building_start_index]\n",
        "                  building_start_index += 1\n",
        "          else:\n",
        "              building_start_index = ext + 3\n",
        "              while row_string[building_start_index] != \"-\":\n",
        "                  building_name = building_name + row_string[building_start_index]\n",
        "                  building_start_index += 1\n",
        "\n",
        "          #array that is created & logged from each line\n",
        "          connection_Entry = {\n",
        "              \"Month\": connection_month,\n",
        "              \"Date\": connection_date,\n",
        "              \"Time\": connection_time,\n",
        "              \"Building Name\": building_name\n",
        "          }\n",
        "          entry = str(connection_Entry)\n",
        "          outfile.write(entry)\n",
        "          outfile.write(\"\\n\")\n",
        "\n",
        "\n",
        "dataFormatter()"
      ],
      "metadata": {
        "id": "9zs3Dk608IyG",
        "colab": {
          "base_uri": "https://localhost:8080/",
          "height": 432
        },
        "outputId": "400c3c9f-2c8b-426c-e202-57ae863c5dc7"
      },
      "execution_count": 3,
      "outputs": [
        {
          "output_type": "error",
          "ename": "ValueError",
          "evalue": "ignored",
          "traceback": [
            "\u001b[0;31m---------------------------------------------------------------------------\u001b[0m",
            "\u001b[0;31mIndexError\u001b[0m                                Traceback (most recent call last)",
            "\u001b[0;32m<ipython-input-3-49f37737c3da>\u001b[0m in \u001b[0;36mdataFormatter\u001b[0;34m()\u001b[0m\n\u001b[1;32m     31\u001b[0m       \u001b[0;32mtry\u001b[0m\u001b[0;34m:\u001b[0m\u001b[0;34m\u001b[0m\u001b[0;34m\u001b[0m\u001b[0m\n\u001b[0;32m---> 32\u001b[0;31m         \u001b[0;32mif\u001b[0m \u001b[0mrow_string\u001b[0m\u001b[0;34m[\u001b[0m\u001b[0;36m18\u001b[0m\u001b[0;34m]\u001b[0m\u001b[0;34m.\u001b[0m\u001b[0misnumeric\u001b[0m\u001b[0;34m(\u001b[0m\u001b[0;34m)\u001b[0m \u001b[0;34m==\u001b[0m \u001b[0;32mFalse\u001b[0m\u001b[0;34m:\u001b[0m\u001b[0;34m\u001b[0m\u001b[0;34m\u001b[0m\u001b[0m\n\u001b[0m\u001b[1;32m     33\u001b[0m             \u001b[0mconnection_month\u001b[0m \u001b[0;34m=\u001b[0m \u001b[0mrow_string\u001b[0m\u001b[0;34m[\u001b[0m\u001b[0;36m2\u001b[0m\u001b[0;34m:\u001b[0m\u001b[0;36m5\u001b[0m\u001b[0;34m]\u001b[0m\u001b[0;34m\u001b[0m\u001b[0;34m\u001b[0m\u001b[0m\n",
            "\u001b[0;31mIndexError\u001b[0m: string index out of range",
            "\nDuring handling of the above exception, another exception occurred:\n",
            "\u001b[0;31mValueError\u001b[0m                                Traceback (most recent call last)",
            "\u001b[0;32m<ipython-input-3-49f37737c3da>\u001b[0m in \u001b[0;36m<module>\u001b[0;34m\u001b[0m\n\u001b[1;32m     79\u001b[0m \u001b[0;34m\u001b[0m\u001b[0m\n\u001b[1;32m     80\u001b[0m \u001b[0;34m\u001b[0m\u001b[0m\n\u001b[0;32m---> 81\u001b[0;31m \u001b[0mdataFormatter\u001b[0m\u001b[0;34m(\u001b[0m\u001b[0;34m)\u001b[0m\u001b[0;34m\u001b[0m\u001b[0;34m\u001b[0m\u001b[0m\n\u001b[0m",
            "\u001b[0;32m<ipython-input-3-49f37737c3da>\u001b[0m in \u001b[0;36mdataFormatter\u001b[0;34m()\u001b[0m\n\u001b[1;32m     54\u001b[0m           \u001b[0mconnection_date\u001b[0m \u001b[0;34m=\u001b[0m \u001b[0mrow_string\u001b[0m\u001b[0;34m[\u001b[0m\u001b[0;36m6\u001b[0m\u001b[0;34m:\u001b[0m\u001b[0;36m8\u001b[0m\u001b[0;34m]\u001b[0m\u001b[0;34m\u001b[0m\u001b[0;34m\u001b[0m\u001b[0m\n\u001b[1;32m     55\u001b[0m           \u001b[0mconnection_time\u001b[0m \u001b[0;34m=\u001b[0m \u001b[0mrow_string\u001b[0m\u001b[0;34m[\u001b[0m\u001b[0;36m9\u001b[0m\u001b[0;34m:\u001b[0m\u001b[0;36m17\u001b[0m\u001b[0;34m]\u001b[0m\u001b[0;34m\u001b[0m\u001b[0;34m\u001b[0m\u001b[0m\n\u001b[0;32m---> 56\u001b[0;31m           \u001b[0mext\u001b[0m \u001b[0;34m=\u001b[0m \u001b[0mrow_string\u001b[0m\u001b[0;34m.\u001b[0m\u001b[0mindex\u001b[0m\u001b[0;34m(\u001b[0m\u001b[0;34m\"AP\"\u001b[0m\u001b[0;34m)\u001b[0m\u001b[0;34m\u001b[0m\u001b[0;34m\u001b[0m\u001b[0m\n\u001b[0m\u001b[1;32m     57\u001b[0m           \u001b[0mbuilding_name\u001b[0m \u001b[0;34m=\u001b[0m \u001b[0;34m\"\"\u001b[0m\u001b[0;34m\u001b[0m\u001b[0;34m\u001b[0m\u001b[0m\n\u001b[1;32m     58\u001b[0m           \u001b[0;32mif\u001b[0m \u001b[0;34m\"EXT\"\u001b[0m \u001b[0;32min\u001b[0m \u001b[0mrow_string\u001b[0m\u001b[0;34m:\u001b[0m\u001b[0;34m\u001b[0m\u001b[0;34m\u001b[0m\u001b[0m\n",
            "\u001b[0;31mValueError\u001b[0m: substring not found"
          ]
        }
      ]
    }
  ]
}